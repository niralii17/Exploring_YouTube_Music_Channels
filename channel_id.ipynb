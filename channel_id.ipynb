{
 "cells": [
  {
   "cell_type": "code",
   "execution_count": 4,
   "id": "0290a440-5d63-4f4a-a252-d1096c22207f",
   "metadata": {},
   "outputs": [],
   "source": [
    "from pytube import YouTube\n",
    "from pytube import Channel"
   ]
  },
  {
   "cell_type": "code",
   "execution_count": 16,
   "id": "99ebf309-b632-4487-b331-820ba65d01b8",
   "metadata": {},
   "outputs": [
    {
     "name": "stdout",
     "output_type": "stream",
     "text": [
      "Video URL: https://www.youtube.com/watch?v=_OS2FSIpQ2s\n",
      "Channel ID: UCq-Fj5jknLsUf-MWSy4_brA\n",
      "\n",
      "Video URL: https://www.youtube.com/watch?v=8i5Cs66-2vk\n",
      "Channel ID: UCStaiwu-FAgp_RC_tBiLh9A\n",
      "\n",
      "Video URL: https://www.youtube.com/watch?v=qoVuJeQb3QQ\n",
      "Channel ID: UC507uEmHkM4ZRoEYswIqMFQ\n",
      "\n",
      "Video URL: https://www.youtube.com/watch?v=76XirkMBHOw\n",
      "Channel ID: UCxtB5XgpGdeDtmLLtC4oI3Q\n",
      "\n",
      "Video URL: https://www.youtube.com/watch?v=M11SvDtPBhA\n",
      "Channel ID: UCpPwodiYc4ceaqEBB54trHQ\n",
      "\n",
      "Video URL: https://www.youtube.com/watch?v=-6A8jgUG0v8\n",
      "Channel ID: UCe4LM_eKc9ywRmVuBm5pjQg\n",
      "\n",
      "Video URL: https://www.youtube.com/watch?v=kl2kaAQnmmw\n",
      "Channel ID: UCudKvbd6gvbm5UCYRk5tZKA\n",
      "\n",
      "Video URL: https://www.youtube.com/watch?v=VKvYRDhPt_0\n",
      "Channel ID: UC4eYXhJI4-7wSWc8UNRwD4A\n",
      "\n",
      "Video URL: https://www.youtube.com/watch?v=tmy_15RuQbw\n",
      "Channel ID: UCa10nxShhzNrCE1o2ZOPztg\n",
      "\n",
      "Video URL: https://www.youtube.com/watch?v=OOkqBZDVvhQ\n",
      "Channel ID: UCM1VesJtJ9vTXcMLLr_FfdQ\n",
      "\n"
     ]
    }
   ],
   "source": [
    "from pytube import YouTube\n",
    "\n",
    "# List of 10 YouTube video URLs\n",
    "video_urls = [\n",
    "    \"https://www.youtube.com/watch?v=_OS2FSIpQ2s\",\n",
    "    \"https://www.youtube.com/watch?v=8i5Cs66-2vk\",\n",
    "    \"https://www.youtube.com/watch?v=qoVuJeQb3QQ\",\n",
    "    \"https://www.youtube.com/watch?v=76XirkMBHOw\",\n",
    "    \"https://www.youtube.com/watch?v=M11SvDtPBhA\",\n",
    "    \"https://www.youtube.com/watch?v=-6A8jgUG0v8\",\n",
    "    \"https://www.youtube.com/watch?v=kl2kaAQnmmw\",\n",
    "    \"https://www.youtube.com/watch?v=VKvYRDhPt_0\",\n",
    "    \"https://www.youtube.com/watch?v=tmy_15RuQbw\",\n",
    "    \"https://www.youtube.com/watch?v=OOkqBZDVvhQ\"\n",
    "]\n",
    "\n",
    "for video_url in video_urls:\n",
    "    try:\n",
    "        x = YouTube(video_url)\n",
    "        Cid = x.channel_id\n",
    "        print(f\"Video URL: {video_url}\")\n",
    "        print(f\"Channel ID: {Cid}\\n\")\n",
    "    except Exception as e:\n",
    "        print(f\"Failed to get channel ID for video URL: {video_url}\")\n",
    "        print(f\"Error: {e}\\n\")\n"
   ]
  },
  {
   "cell_type": "code",
   "execution_count": null,
   "id": "b7e14dbe-2e1c-4035-a9bd-0c89137c901c",
   "metadata": {},
   "outputs": [],
   "source": []
  }
 ],
 "metadata": {
  "kernelspec": {
   "display_name": "Python 3 (ipykernel)",
   "language": "python",
   "name": "python3"
  },
  "language_info": {
   "codemirror_mode": {
    "name": "ipython",
    "version": 3
   },
   "file_extension": ".py",
   "mimetype": "text/x-python",
   "name": "python",
   "nbconvert_exporter": "python",
   "pygments_lexer": "ipython3",
   "version": "3.11.7"
  }
 },
 "nbformat": 4,
 "nbformat_minor": 5
}
